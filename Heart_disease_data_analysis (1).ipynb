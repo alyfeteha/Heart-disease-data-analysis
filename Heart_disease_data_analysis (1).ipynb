{
  "cells": [
    {
      "cell_type": "markdown",
      "metadata": {
        "id": "1uo32pGivutO"
      },
      "source": [
        "\n",
        "# Heart disease Data analysis \n",
        "\n",
        "This project is for showing my visualization and pandas skills.\n",
        "____\n",
        "We'll focus on heart disease and see how they progressed throughout the UCI repository [Heart disease dataset](https://archive.ics.uci.edu/ml/machine-learning-databases/heart-disease/)\n"
      ]
    },
    {
      "cell_type": "markdown",
      "metadata": {
        "id": "x9M0YlyRvutS"
      },
      "source": [
        "**The columns of the dataframe: \n",
        "\n",
        "> Age: displays the age of the individual.\n",
        "\n",
        "> Sex: displays the gender of the individual using the following format :\n",
        ">> 1 = male\n",
        "\n",
        ">> 0 = female\n",
        "\n",
        "> Chest-pain type: displays the type of chest-pain experienced by the individual using the following format :\n",
        ">> 1 = typical angina\n",
        "\n",
        ">> 2 = atypical angina\n",
        "\n",
        ">> 3 = non — anginal pain\n",
        "\n",
        ">> 4 = asymptotic\n",
        "\n",
        "> Resting Blood Pressure: displays the resting blood pressure value of an individual in mmHg (unit)\n",
        "\n",
        "> Serum Cholestrol: displays the serum cholesterol in mg/dl (unit)\n",
        "\n",
        "> Fasting Blood Sugar: compares the fasting blood sugar value of an individual with 120mg/dl.\n",
        ">> If fasting blood sugar > 120mg/dl then : 1 (true)\n",
        "\n",
        ">> else : 0 (false)\n",
        "\n",
        "> Resting ECG : displays resting electrocardiographic results\n",
        ">> 0 = normal\n",
        "\n",
        ">> 1 = having ST-T wave abnormality\n",
        "\n",
        ">> 2 = left ventricular hyperthrophy\n",
        "\n",
        "> Max heart rate achieved : displays the max heart rate achieved by an individual.\n",
        "\n",
        "> Exercise induced angina :\n",
        ">> 1 = yes\n",
        "\n",
        ">> 0 = no\n",
        "\n",
        "> ST depression induced by exercise relative to rest: displays the value which is an integer or float.\n",
        "\n",
        "> Peak exercise ST segment :\n",
        ">> 1 = upsloping\n",
        "\n",
        ">> 2 = flat\n",
        "\n",
        ">> 3 = downsloping\n",
        "\n",
        "> Number of major vessels (0–3) colored by flourosopy : displays the value as integer or float.\n",
        "\n",
        "> Thal : displays the thalassemia :\n",
        ">> 3 = normal\n",
        "\n",
        ">> 6 = fixed defect\n",
        "\n",
        ">> 7 = reversible defect\n",
        "\n",
        "> num : Displays whether the individual is suffering from heart disease or not :\n",
        ">> 0 = absence\n",
        "\n",
        ">>1, 2, 3, 4 = present."
      ]
    },
    {
      "cell_type": "markdown",
      "metadata": {
        "id": "g9w7ijkEvutU"
      },
      "source": [
        "## Get the Data\n",
        "\n",
        "In this section we will learn how to use pandas to directly read data from website!\n",
        "\n",
        "First we need to start with the proper imports, which we've already laid out for you here.\n",
        "\n",
        "### The Imports\n",
        "\n",
        "Already filled out for you. This is just the most important libraries. feel free to add any other library if you want to help you answer your quesions"
      ]
    },
    {
      "cell_type": "code",
      "execution_count": null,
      "metadata": {
        "id": "i9QFM55lvutU"
      },
      "outputs": [],
      "source": [
        "import pandas as pd\n",
        "import numpy as np\n",
        "import datetime\n",
        "import matplotlib.pyplot as plt\n",
        "import seaborn as sns\n",
        "%matplotlib inline"
      ]
    },
    {
      "cell_type": "markdown",
      "metadata": {
        "id": "NX5BAuZ_vutV"
      },
      "source": [
        "## Data\n",
        "\n",
        "Here we will import the data directly from the website\n"
      ]
    },
    {
      "cell_type": "code",
      "execution_count": null,
      "metadata": {
        "id": "lI7nfU7RvutW"
      },
      "outputs": [],
      "source": [
        "# here the path of the file\n",
        "url = 'https://archive.ics.uci.edu/ml/machine-learning-databases/heart-disease/processed.cleveland.data'\n",
        "\n",
        "#define the name of each column in the dataset\n",
        "names = ['age',       \n",
        "      'sex',       \n",
        "      'cp',        \n",
        "      'trestbps',  \n",
        "      'chol',      \n",
        "      'fbs',       \n",
        "      'restecg',   \n",
        "      'thalach',\n",
        "      'exang',     \n",
        "      'oldpeak',   \n",
        "      'slope',     \n",
        "      'ca',         \n",
        "      'thal',      \n",
        "      'num']"
      ]
    },
    {
      "cell_type": "markdown",
      "metadata": {
        "id": "W-bHE2nUvutW"
      },
      "source": [
        "**Read the data from CSV file format using pandas library** \n",
        "\n",
        "> This link can help you: [pandas reading csv](https://pandas.pydata.org/docs/reference/api/pandas.read_csv.html) \n",
        "\n",
        "> you need to provide to this function: \n",
        "\n",
        ">> the file path: You will find it saved in the variable url in the above cell.\n",
        "\n",
        ">> The names: You will find it saved in the variable names in the above cell."
      ]
    },
    {
      "cell_type": "markdown",
      "metadata": {
        "id": "wGtKqSWHvutX"
      },
      "source": [
        "# Assessing"
      ]
    },
    {
      "cell_type": "markdown",
      "metadata": {
        "id": "Vxc44KIsvutX"
      },
      "source": [
        "**view the first 5 rows of the data to make sure that everything went well.**"
      ]
    },
    {
      "cell_type": "code",
      "execution_count": null,
      "metadata": {
        "id": "qx0tbfNGvutY",
        "outputId": "2cce65b4-a6cd-4c1a-b3ef-6b40464df051"
      },
      "outputs": [
        {
          "data": {
            "text/html": [
              "<div>\n",
              "<style scoped>\n",
              "    .dataframe tbody tr th:only-of-type {\n",
              "        vertical-align: middle;\n",
              "    }\n",
              "\n",
              "    .dataframe tbody tr th {\n",
              "        vertical-align: top;\n",
              "    }\n",
              "\n",
              "    .dataframe thead th {\n",
              "        text-align: right;\n",
              "    }\n",
              "</style>\n",
              "<table border=\"1\" class=\"dataframe\">\n",
              "  <thead>\n",
              "    <tr style=\"text-align: right;\">\n",
              "      <th></th>\n",
              "      <th>age</th>\n",
              "      <th>sex</th>\n",
              "      <th>cp</th>\n",
              "      <th>trestbps</th>\n",
              "      <th>chol</th>\n",
              "      <th>fbs</th>\n",
              "      <th>restecg</th>\n",
              "      <th>thalach</th>\n",
              "      <th>exang</th>\n",
              "      <th>oldpeak</th>\n",
              "      <th>slope</th>\n",
              "      <th>ca</th>\n",
              "      <th>thal</th>\n",
              "      <th>num</th>\n",
              "    </tr>\n",
              "  </thead>\n",
              "  <tbody>\n",
              "    <tr>\n",
              "      <th>0</th>\n",
              "      <td>63.0</td>\n",
              "      <td>1.0</td>\n",
              "      <td>1.0</td>\n",
              "      <td>145.0</td>\n",
              "      <td>233.0</td>\n",
              "      <td>1.0</td>\n",
              "      <td>2.0</td>\n",
              "      <td>150.0</td>\n",
              "      <td>0.0</td>\n",
              "      <td>2.3</td>\n",
              "      <td>3.0</td>\n",
              "      <td>0.0</td>\n",
              "      <td>6.0</td>\n",
              "      <td>0</td>\n",
              "    </tr>\n",
              "    <tr>\n",
              "      <th>1</th>\n",
              "      <td>67.0</td>\n",
              "      <td>1.0</td>\n",
              "      <td>4.0</td>\n",
              "      <td>160.0</td>\n",
              "      <td>286.0</td>\n",
              "      <td>0.0</td>\n",
              "      <td>2.0</td>\n",
              "      <td>108.0</td>\n",
              "      <td>1.0</td>\n",
              "      <td>1.5</td>\n",
              "      <td>2.0</td>\n",
              "      <td>3.0</td>\n",
              "      <td>3.0</td>\n",
              "      <td>2</td>\n",
              "    </tr>\n",
              "    <tr>\n",
              "      <th>2</th>\n",
              "      <td>67.0</td>\n",
              "      <td>1.0</td>\n",
              "      <td>4.0</td>\n",
              "      <td>120.0</td>\n",
              "      <td>229.0</td>\n",
              "      <td>0.0</td>\n",
              "      <td>2.0</td>\n",
              "      <td>129.0</td>\n",
              "      <td>1.0</td>\n",
              "      <td>2.6</td>\n",
              "      <td>2.0</td>\n",
              "      <td>2.0</td>\n",
              "      <td>7.0</td>\n",
              "      <td>1</td>\n",
              "    </tr>\n",
              "    <tr>\n",
              "      <th>3</th>\n",
              "      <td>37.0</td>\n",
              "      <td>1.0</td>\n",
              "      <td>3.0</td>\n",
              "      <td>130.0</td>\n",
              "      <td>250.0</td>\n",
              "      <td>0.0</td>\n",
              "      <td>0.0</td>\n",
              "      <td>187.0</td>\n",
              "      <td>0.0</td>\n",
              "      <td>3.5</td>\n",
              "      <td>3.0</td>\n",
              "      <td>0.0</td>\n",
              "      <td>3.0</td>\n",
              "      <td>0</td>\n",
              "    </tr>\n",
              "    <tr>\n",
              "      <th>4</th>\n",
              "      <td>41.0</td>\n",
              "      <td>0.0</td>\n",
              "      <td>2.0</td>\n",
              "      <td>130.0</td>\n",
              "      <td>204.0</td>\n",
              "      <td>0.0</td>\n",
              "      <td>2.0</td>\n",
              "      <td>172.0</td>\n",
              "      <td>0.0</td>\n",
              "      <td>1.4</td>\n",
              "      <td>1.0</td>\n",
              "      <td>0.0</td>\n",
              "      <td>3.0</td>\n",
              "      <td>0</td>\n",
              "    </tr>\n",
              "  </tbody>\n",
              "</table>\n",
              "</div>"
            ],
            "text/plain": [
              "    age  sex   cp  trestbps   chol  fbs  restecg  thalach  exang  oldpeak  \\\n",
              "0  63.0  1.0  1.0     145.0  233.0  1.0      2.0    150.0    0.0      2.3   \n",
              "1  67.0  1.0  4.0     160.0  286.0  0.0      2.0    108.0    1.0      1.5   \n",
              "2  67.0  1.0  4.0     120.0  229.0  0.0      2.0    129.0    1.0      2.6   \n",
              "3  37.0  1.0  3.0     130.0  250.0  0.0      0.0    187.0    0.0      3.5   \n",
              "4  41.0  0.0  2.0     130.0  204.0  0.0      2.0    172.0    0.0      1.4   \n",
              "\n",
              "   slope   ca thal  num  \n",
              "0    3.0  0.0  6.0    0  \n",
              "1    2.0  3.0  3.0    2  \n",
              "2    2.0  2.0  7.0    1  \n",
              "3    3.0  0.0  3.0    0  \n",
              "4    1.0  0.0  3.0    0  "
            ]
          },
          "execution_count": 3,
          "metadata": {},
          "output_type": "execute_result"
        }
      ],
      "source": [
        "df = pd.read_csv(url, names=names)\n",
        "df.set_axis(names, axis=1, inplace=True)\n",
        "df.head()"
      ]
    },
    {
      "cell_type": "markdown",
      "metadata": {
        "id": "oM7XgQhEvutZ"
      },
      "source": [
        "**view the last 10 rows of the data using [.tail()](https://pandas.pydata.org/docs/reference/api/pandas.DataFrame.tail.html)**"
      ]
    },
    {
      "cell_type": "code",
      "execution_count": null,
      "metadata": {
        "id": "Gb_vK7ZxvutZ",
        "outputId": "d4ac72ee-8bed-4a89-9070-8b1a273b9f8a"
      },
      "outputs": [
        {
          "data": {
            "text/html": [
              "<div>\n",
              "<style scoped>\n",
              "    .dataframe tbody tr th:only-of-type {\n",
              "        vertical-align: middle;\n",
              "    }\n",
              "\n",
              "    .dataframe tbody tr th {\n",
              "        vertical-align: top;\n",
              "    }\n",
              "\n",
              "    .dataframe thead th {\n",
              "        text-align: right;\n",
              "    }\n",
              "</style>\n",
              "<table border=\"1\" class=\"dataframe\">\n",
              "  <thead>\n",
              "    <tr style=\"text-align: right;\">\n",
              "      <th></th>\n",
              "      <th>age</th>\n",
              "      <th>sex</th>\n",
              "      <th>cp</th>\n",
              "      <th>trestbps</th>\n",
              "      <th>chol</th>\n",
              "      <th>fbs</th>\n",
              "      <th>restecg</th>\n",
              "      <th>thalach</th>\n",
              "      <th>exang</th>\n",
              "      <th>oldpeak</th>\n",
              "      <th>slope</th>\n",
              "      <th>ca</th>\n",
              "      <th>thal</th>\n",
              "      <th>num</th>\n",
              "    </tr>\n",
              "  </thead>\n",
              "  <tbody>\n",
              "    <tr>\n",
              "      <th>293</th>\n",
              "      <td>63.0</td>\n",
              "      <td>1.0</td>\n",
              "      <td>4.0</td>\n",
              "      <td>140.0</td>\n",
              "      <td>187.0</td>\n",
              "      <td>0.0</td>\n",
              "      <td>2.0</td>\n",
              "      <td>144.0</td>\n",
              "      <td>1.0</td>\n",
              "      <td>4.0</td>\n",
              "      <td>1.0</td>\n",
              "      <td>2.0</td>\n",
              "      <td>7.0</td>\n",
              "      <td>2</td>\n",
              "    </tr>\n",
              "    <tr>\n",
              "      <th>294</th>\n",
              "      <td>63.0</td>\n",
              "      <td>0.0</td>\n",
              "      <td>4.0</td>\n",
              "      <td>124.0</td>\n",
              "      <td>197.0</td>\n",
              "      <td>0.0</td>\n",
              "      <td>0.0</td>\n",
              "      <td>136.0</td>\n",
              "      <td>1.0</td>\n",
              "      <td>0.0</td>\n",
              "      <td>2.0</td>\n",
              "      <td>0.0</td>\n",
              "      <td>3.0</td>\n",
              "      <td>1</td>\n",
              "    </tr>\n",
              "    <tr>\n",
              "      <th>295</th>\n",
              "      <td>41.0</td>\n",
              "      <td>1.0</td>\n",
              "      <td>2.0</td>\n",
              "      <td>120.0</td>\n",
              "      <td>157.0</td>\n",
              "      <td>0.0</td>\n",
              "      <td>0.0</td>\n",
              "      <td>182.0</td>\n",
              "      <td>0.0</td>\n",
              "      <td>0.0</td>\n",
              "      <td>1.0</td>\n",
              "      <td>0.0</td>\n",
              "      <td>3.0</td>\n",
              "      <td>0</td>\n",
              "    </tr>\n",
              "    <tr>\n",
              "      <th>296</th>\n",
              "      <td>59.0</td>\n",
              "      <td>1.0</td>\n",
              "      <td>4.0</td>\n",
              "      <td>164.0</td>\n",
              "      <td>176.0</td>\n",
              "      <td>1.0</td>\n",
              "      <td>2.0</td>\n",
              "      <td>90.0</td>\n",
              "      <td>0.0</td>\n",
              "      <td>1.0</td>\n",
              "      <td>2.0</td>\n",
              "      <td>2.0</td>\n",
              "      <td>6.0</td>\n",
              "      <td>3</td>\n",
              "    </tr>\n",
              "    <tr>\n",
              "      <th>297</th>\n",
              "      <td>57.0</td>\n",
              "      <td>0.0</td>\n",
              "      <td>4.0</td>\n",
              "      <td>140.0</td>\n",
              "      <td>241.0</td>\n",
              "      <td>0.0</td>\n",
              "      <td>0.0</td>\n",
              "      <td>123.0</td>\n",
              "      <td>1.0</td>\n",
              "      <td>0.2</td>\n",
              "      <td>2.0</td>\n",
              "      <td>0.0</td>\n",
              "      <td>7.0</td>\n",
              "      <td>1</td>\n",
              "    </tr>\n",
              "    <tr>\n",
              "      <th>298</th>\n",
              "      <td>45.0</td>\n",
              "      <td>1.0</td>\n",
              "      <td>1.0</td>\n",
              "      <td>110.0</td>\n",
              "      <td>264.0</td>\n",
              "      <td>0.0</td>\n",
              "      <td>0.0</td>\n",
              "      <td>132.0</td>\n",
              "      <td>0.0</td>\n",
              "      <td>1.2</td>\n",
              "      <td>2.0</td>\n",
              "      <td>0.0</td>\n",
              "      <td>7.0</td>\n",
              "      <td>1</td>\n",
              "    </tr>\n",
              "    <tr>\n",
              "      <th>299</th>\n",
              "      <td>68.0</td>\n",
              "      <td>1.0</td>\n",
              "      <td>4.0</td>\n",
              "      <td>144.0</td>\n",
              "      <td>193.0</td>\n",
              "      <td>1.0</td>\n",
              "      <td>0.0</td>\n",
              "      <td>141.0</td>\n",
              "      <td>0.0</td>\n",
              "      <td>3.4</td>\n",
              "      <td>2.0</td>\n",
              "      <td>2.0</td>\n",
              "      <td>7.0</td>\n",
              "      <td>2</td>\n",
              "    </tr>\n",
              "    <tr>\n",
              "      <th>300</th>\n",
              "      <td>57.0</td>\n",
              "      <td>1.0</td>\n",
              "      <td>4.0</td>\n",
              "      <td>130.0</td>\n",
              "      <td>131.0</td>\n",
              "      <td>0.0</td>\n",
              "      <td>0.0</td>\n",
              "      <td>115.0</td>\n",
              "      <td>1.0</td>\n",
              "      <td>1.2</td>\n",
              "      <td>2.0</td>\n",
              "      <td>1.0</td>\n",
              "      <td>7.0</td>\n",
              "      <td>3</td>\n",
              "    </tr>\n",
              "    <tr>\n",
              "      <th>301</th>\n",
              "      <td>57.0</td>\n",
              "      <td>0.0</td>\n",
              "      <td>2.0</td>\n",
              "      <td>130.0</td>\n",
              "      <td>236.0</td>\n",
              "      <td>0.0</td>\n",
              "      <td>2.0</td>\n",
              "      <td>174.0</td>\n",
              "      <td>0.0</td>\n",
              "      <td>0.0</td>\n",
              "      <td>2.0</td>\n",
              "      <td>1.0</td>\n",
              "      <td>3.0</td>\n",
              "      <td>1</td>\n",
              "    </tr>\n",
              "    <tr>\n",
              "      <th>302</th>\n",
              "      <td>38.0</td>\n",
              "      <td>1.0</td>\n",
              "      <td>3.0</td>\n",
              "      <td>138.0</td>\n",
              "      <td>175.0</td>\n",
              "      <td>0.0</td>\n",
              "      <td>0.0</td>\n",
              "      <td>173.0</td>\n",
              "      <td>0.0</td>\n",
              "      <td>0.0</td>\n",
              "      <td>1.0</td>\n",
              "      <td>?</td>\n",
              "      <td>3.0</td>\n",
              "      <td>0</td>\n",
              "    </tr>\n",
              "  </tbody>\n",
              "</table>\n",
              "</div>"
            ],
            "text/plain": [
              "      age  sex   cp  trestbps   chol  fbs  restecg  thalach  exang  oldpeak  \\\n",
              "293  63.0  1.0  4.0     140.0  187.0  0.0      2.0    144.0    1.0      4.0   \n",
              "294  63.0  0.0  4.0     124.0  197.0  0.0      0.0    136.0    1.0      0.0   \n",
              "295  41.0  1.0  2.0     120.0  157.0  0.0      0.0    182.0    0.0      0.0   \n",
              "296  59.0  1.0  4.0     164.0  176.0  1.0      2.0     90.0    0.0      1.0   \n",
              "297  57.0  0.0  4.0     140.0  241.0  0.0      0.0    123.0    1.0      0.2   \n",
              "298  45.0  1.0  1.0     110.0  264.0  0.0      0.0    132.0    0.0      1.2   \n",
              "299  68.0  1.0  4.0     144.0  193.0  1.0      0.0    141.0    0.0      3.4   \n",
              "300  57.0  1.0  4.0     130.0  131.0  0.0      0.0    115.0    1.0      1.2   \n",
              "301  57.0  0.0  2.0     130.0  236.0  0.0      2.0    174.0    0.0      0.0   \n",
              "302  38.0  1.0  3.0     138.0  175.0  0.0      0.0    173.0    0.0      0.0   \n",
              "\n",
              "     slope   ca thal  num  \n",
              "293    1.0  2.0  7.0    2  \n",
              "294    2.0  0.0  3.0    1  \n",
              "295    1.0  0.0  3.0    0  \n",
              "296    2.0  2.0  6.0    3  \n",
              "297    2.0  0.0  7.0    1  \n",
              "298    2.0  0.0  7.0    1  \n",
              "299    2.0  2.0  7.0    2  \n",
              "300    2.0  1.0  7.0    3  \n",
              "301    2.0  1.0  3.0    1  \n",
              "302    1.0    ?  3.0    0  "
            ]
          },
          "execution_count": 4,
          "metadata": {},
          "output_type": "execute_result"
        }
      ],
      "source": [
        "df.tail(10)"
      ]
    },
    {
      "cell_type": "markdown",
      "metadata": {
        "id": "Vcjx_IKPvutZ"
      },
      "source": [
        "**show the data type of each column and the number of non null values**"
      ]
    },
    {
      "cell_type": "code",
      "execution_count": null,
      "metadata": {
        "id": "98w4WDhfvuta",
        "outputId": "aea595e1-3dec-452d-c3e7-73d86acf8bec"
      },
      "outputs": [
        {
          "name": "stdout",
          "output_type": "stream",
          "text": [
            "<class 'pandas.core.frame.DataFrame'>\n",
            "RangeIndex: 303 entries, 0 to 302\n",
            "Data columns (total 14 columns):\n",
            " #   Column    Non-Null Count  Dtype  \n",
            "---  ------    --------------  -----  \n",
            " 0   age       303 non-null    float64\n",
            " 1   sex       303 non-null    float64\n",
            " 2   cp        303 non-null    float64\n",
            " 3   trestbps  303 non-null    float64\n",
            " 4   chol      303 non-null    float64\n",
            " 5   fbs       303 non-null    float64\n",
            " 6   restecg   303 non-null    float64\n",
            " 7   thalach   303 non-null    float64\n",
            " 8   exang     303 non-null    float64\n",
            " 9   oldpeak   303 non-null    float64\n",
            " 10  slope     303 non-null    float64\n",
            " 11  ca        303 non-null    object \n",
            " 12  thal      303 non-null    object \n",
            " 13  num       303 non-null    int64  \n",
            "dtypes: float64(11), int64(1), object(2)\n",
            "memory usage: 33.3+ KB\n"
          ]
        }
      ],
      "source": [
        "df.info()"
      ]
    },
    {
      "cell_type": "markdown",
      "metadata": {
        "id": "_OuIpPiRvuta"
      },
      "source": [
        "**Check if there is any duplicates or missing values**\n",
        "\n",
        "> Note that when you print the last 10 rows of the data there is a strange value in ca column represnted by \"?\".. Therefore, we concluded that the missing values in this dataframe represented by ? try to use .isnull().sum() to check for the missing values .. what do you notice ? "
      ]
    },
    {
      "cell_type": "code",
      "execution_count": null,
      "metadata": {
        "id": "3z2AxIsbvuta",
        "outputId": "65afc051-71fe-4dba-f4d9-eb27e96abb9f"
      },
      "outputs": [
        {
          "data": {
            "text/plain": [
              "age         0\n",
              "sex         0\n",
              "cp          0\n",
              "trestbps    0\n",
              "chol        0\n",
              "fbs         0\n",
              "restecg     0\n",
              "thalach     0\n",
              "exang       0\n",
              "oldpeak     0\n",
              "slope       0\n",
              "ca          0\n",
              "thal        0\n",
              "num         0\n",
              "dtype: int64"
            ]
          },
          "execution_count": 6,
          "metadata": {},
          "output_type": "execute_result"
        }
      ],
      "source": [
        "df.isnull().sum()"
      ]
    },
    {
      "cell_type": "markdown",
      "metadata": {
        "id": "-4E8L3PGvuta"
      },
      "source": [
        "**We notice that there is no missing values!! even if we know that there was... This is because that .isnull() recognized only na nan values as missing**\n",
        "\n",
        "**Therefore, you need first change the ? in the dataframe to be na or nan, then check for the missing values again**\n",
        "\n",
        "> this links may help you: \n",
        "[replace](https://pandas.pydata.org/docs/reference/api/pandas.DataFrame.replace.html)\n"
      ]
    },
    {
      "cell_type": "code",
      "execution_count": null,
      "metadata": {
        "id": "rtGyDrhOvutb"
      },
      "outputs": [],
      "source": [
        "df.replace(['?'], [None], inplace=True)"
      ]
    },
    {
      "cell_type": "code",
      "execution_count": null,
      "metadata": {
        "id": "KDkBR3Ipvutb",
        "outputId": "7054b9d1-2a84-4489-c6da-f286abd1a1c0"
      },
      "outputs": [
        {
          "data": {
            "text/plain": [
              "age         0\n",
              "sex         0\n",
              "cp          0\n",
              "trestbps    0\n",
              "chol        0\n",
              "fbs         0\n",
              "restecg     0\n",
              "thalach     0\n",
              "exang       0\n",
              "oldpeak     0\n",
              "slope       0\n",
              "ca          4\n",
              "thal        2\n",
              "num         0\n",
              "dtype: int64"
            ]
          },
          "execution_count": 8,
          "metadata": {},
          "output_type": "execute_result"
        }
      ],
      "source": [
        "df.isnull().sum()"
      ]
    },
    {
      "cell_type": "markdown",
      "metadata": {
        "id": "mUE5kjOZvutb"
      },
      "source": [
        "**Change the datatype of sex into int instead of float**"
      ]
    },
    {
      "cell_type": "code",
      "execution_count": null,
      "metadata": {
        "id": "rg-kj4Krvutb",
        "outputId": "de5c5c13-fa43-4604-8d01-0acfdbba9380"
      },
      "outputs": [
        {
          "data": {
            "text/plain": [
              "age         float64\n",
              "sex           int32\n",
              "cp          float64\n",
              "trestbps    float64\n",
              "chol        float64\n",
              "fbs         float64\n",
              "restecg     float64\n",
              "thalach     float64\n",
              "exang       float64\n",
              "oldpeak     float64\n",
              "slope       float64\n",
              "ca           object\n",
              "thal         object\n",
              "num           int64\n",
              "dtype: object"
            ]
          },
          "execution_count": 9,
          "metadata": {},
          "output_type": "execute_result"
        }
      ],
      "source": [
        "df = df.astype({'sex': 'int32'})\n",
        "df.dtypes"
      ]
    },
    {
      "cell_type": "markdown",
      "metadata": {
        "id": "XRjrFAvxvutc"
      },
      "source": [
        "# Basic Questions"
      ]
    },
    {
      "cell_type": "markdown",
      "metadata": {
        "id": "FVQcof61vutc"
      },
      "source": [
        "**The num column represented the type of heart disease that faced the patients, What are the count of patients in each type of heart disease ?**"
      ]
    },
    {
      "cell_type": "code",
      "execution_count": null,
      "metadata": {
        "id": "B2lkRjQZvutc",
        "outputId": "5636f4ec-32fd-45c2-b5de-3ee43e499567"
      },
      "outputs": [
        {
          "data": {
            "text/plain": [
              "0    164\n",
              "1     55\n",
              "2     36\n",
              "3     35\n",
              "4     13\n",
              "Name: num, dtype: int64"
            ]
          },
          "execution_count": 10,
          "metadata": {},
          "output_type": "execute_result"
        }
      ],
      "source": [
        "df['num'].value_counts()"
      ]
    },
    {
      "cell_type": "markdown",
      "metadata": {
        "id": "WOtTzmj8vutc"
      },
      "source": [
        "**convert this dataset into a binary data, the non-heart disease has a value 0, and any value other than 0, indicated that the patient has heart disease will be a class 1**\n",
        "\n",
        "**all the next question will be on this dataset**"
      ]
    },
    {
      "cell_type": "code",
      "execution_count": null,
      "metadata": {
        "id": "TUJq4HC_vutc"
      },
      "outputs": [],
      "source": [
        "df['num'].replace([2, 3, 4], 1, inplace=True)"
      ]
    },
    {
      "cell_type": "markdown",
      "metadata": {
        "id": "z19-GXcUvutc"
      },
      "source": [
        "**draw the pie plot to the target variable in the binary dataset**"
      ]
    },
    {
      "cell_type": "code",
      "execution_count": null,
      "metadata": {
        "id": "_aNBmxJyvutd",
        "outputId": "8737867b-a871-4783-95aa-c2e21054bdba"
      },
      "outputs": [
        {
          "data": {
            "text/plain": [
              "([<matplotlib.patches.Wedge at 0x2765a9eb9a0>,\n",
              "  <matplotlib.patches.Wedge at 0x2765a9ff0d0>],\n",
              " [Text(-0.14216517139859375, 1.0907745248405871, 'non-heart disease'),\n",
              "  Text(0.1421650692729111, -1.0907745381510465, 'heart disease')],\n",
              " [Text(-0.07754463894468748, 0.5949679226403202, '54.1%'),\n",
              "  Text(0.07754458323976968, -0.5949679299005707, '45.9%')])"
            ]
          },
          "execution_count": 12,
          "metadata": {},
          "output_type": "execute_result"
        },
        {
          "data": {
            "image/png": "[encoded data removed]",
            "text/plain": [
              "<Figure size 432x288 with 1 Axes>"
            ]
          },
          "metadata": {},
          "output_type": "display_data"
        }
      ],
      "source": [
        "plt.pie(x=df['num'].value_counts(), autopct=\"%.1f%%\", labels=[\"non-heart disease\", \"heart disease\"])"
      ]
    },
    {
      "cell_type": "markdown",
      "metadata": {
        "id": "b1Opi2T3vutd"
      },
      "source": [
        "**what is the number of non-heart disease and heart disease patient in each gender**"
      ]
    },
    {
      "cell_type": "markdown",
      "metadata": {
        "id": "6dJMKrfPvutd"
      },
      "source": [
        "> Note: using [.gropby()](https://pandas.pydata.org/docs/reference/api/pandas.DataFrame.groupby.html) note that you will group by two columns not one \n",
        "\n",
        "> and .size()[this can be helpful](https://www.geeksforgeeks.org/plot-the-size-of-each-group-in-a-groupby-object-in-pandas/)]() to get the size"
      ]
    },
    {
      "cell_type": "code",
      "execution_count": null,
      "metadata": {
        "id": "ahTcVkwQvutd",
        "outputId": "f6bfe67b-8d4f-4473-b257-180e70b84f8f"
      },
      "outputs": [
        {
          "data": {
            "text/plain": [
              "sex  num\n",
              "0    0       72\n",
              "     1       25\n",
              "1    0       92\n",
              "     1      114\n",
              "dtype: int64"
            ]
          },
          "execution_count": 13,
          "metadata": {},
          "output_type": "execute_result"
        }
      ],
      "source": [
        "df.groupby(by=['sex', 'num']).size()"
      ]
    },
    {
      "cell_type": "markdown",
      "metadata": {
        "id": "dsmr0T8Zvutd"
      },
      "source": [
        "**Draw the histogram to the chol column for people with heart disease and without heart disease**\n",
        "\n",
        "> Note that: specify the bins = 20"
      ]
    },
    {
      "cell_type": "code",
      "execution_count": null,
      "metadata": {
        "id": "WoWXwSo9vute",
        "outputId": "79b59c51-e810-4aad-e48e-30419db27965"
      },
      "outputs": [
        {
          "data": {
            "text/plain": [
              "<matplotlib.legend.Legend at 0x2765c15c5e0>"
            ]
          },
          "execution_count": 14,
          "metadata": {},
          "output_type": "execute_result"
        },
        {
          "data": {
            "image/png": "[encoded data removed]",
            "text/plain": [
              "<Figure size 432x288 with 1 Axes>"
            ]
          },
          "metadata": {
            "needs_background": "light"
          },
          "output_type": "display_data"
        }
      ],
      "source": [
        "sns.histplot(x='chol',hue = 'num', data=df, bins=20, common_bins=False, legend=True)\n",
        "plt.ylabel(\"percentage\")\n",
        "plt.legend([\"with heart disease\", \"non-heart disease\"])"
      ]
    },
    {
      "cell_type": "markdown",
      "metadata": {
        "id": "THMOwxd2vute"
      },
      "source": [
        "**Draw the heat map for the data**\n",
        "\n",
        "> note determine the fig size to be (12,10)"
      ]
    },
    {
      "cell_type": "code",
      "execution_count": null,
      "metadata": {
        "id": "1pVb0YnJvute",
        "outputId": "d5dc8cf0-c28f-44b2-dcae-cd1713f7704c"
      },
      "outputs": [
        {
          "data": {
            "text/plain": [
              "<AxesSubplot:>"
            ]
          },
          "execution_count": 15,
          "metadata": {},
          "output_type": "execute_result"
        },
        {
          "data": {
            "image/png": "[encoded data removed]",
            "text/plain": [
              "<Figure size 864x720 with 2 Axes>"
            ]
          },
          "metadata": {
            "needs_background": "light"
          },
          "output_type": "display_data"
        }
      ],
      "source": [
        "plt.figure(figsize=(12,10))\n",
        "sns.heatmap(df.corr(), annot=True)"
      ]
    },
    {
      "cell_type": "markdown",
      "metadata": {
        "id": "29S3cRfTvute"
      },
      "source": [
        "**Draw the box plot between the age and target (num)**"
      ]
    },
    {
      "cell_type": "code",
      "execution_count": null,
      "metadata": {
        "id": "gsdwAAZvvute",
        "outputId": "5237edcf-cff4-4c59-b391-5afa5c517206"
      },
      "outputs": [
        {
          "data": {
            "text/plain": [
              "<AxesSubplot:xlabel='num', ylabel='age'>"
            ]
          },
          "execution_count": 16,
          "metadata": {},
          "output_type": "execute_result"
        },
        {
          "data": {
            "image/png": "[encoded data removed]",
            "text/plain": [
              "<Figure size 864x720 with 1 Axes>"
            ]
          },
          "metadata": {
            "needs_background": "light"
          },
          "output_type": "display_data"
        }
      ],
      "source": [
        "plt.figure(figsize=(12,10))\n",
        "sns.boxplot(x='num', y='age', data=df)"
      ]
    },
    {
      "cell_type": "markdown",
      "metadata": {
        "id": "2FaGVj31vute"
      },
      "source": [
        "**Plot hist for each feature to get insight**"
      ]
    },
    {
      "cell_type": "code",
      "execution_count": null,
      "metadata": {
        "id": "GdPU_WL_vutf",
        "outputId": "cd919670-db08-4a19-8b0a-d1f51c030328"
      },
      "outputs": [
        {
          "data": {
            "image/png": "[encoded data removed]",
            "text/plain": [
              "<Figure size 864x720 with 12 Axes>"
            ]
          },
          "metadata": {
            "needs_background": "light"
          },
          "output_type": "display_data"
        }
      ],
      "source": [
        "fig = plt.figure(figsize=(12,10))\n",
        "\n",
        "ax = fig.add_subplot(4, 3, 1)\n",
        "sns.histplot(data=df, x='age')\n",
        "\n",
        "ax = fig.add_subplot(4, 3, 2)\n",
        "sns.histplot(data=df, x='sex')\n",
        "\n",
        "ax = fig.add_subplot(4, 3, 3)\n",
        "sns.histplot(data=df, x='cp')\n",
        "\n",
        "ax = fig.add_subplot(4, 3, 4)\n",
        "sns.histplot(data=df, x='trestbps')\n",
        "\n",
        "ax = fig.add_subplot(4, 3, 5)\n",
        "sns.histplot(data=df, x='chol')\n",
        "\n",
        "ax = fig.add_subplot(4, 3, 6)\n",
        "sns.histplot(data=df, x='fbs')\n",
        "\n",
        "ax = fig.add_subplot(4, 3, 7)\n",
        "sns.histplot(data=df, x='restecg')\n",
        "\n",
        "ax = fig.add_subplot(4, 3, 8)\n",
        "sns.histplot(data=df, x='thalach')\n",
        "\n",
        "ax = fig.add_subplot(4, 3, 9)\n",
        "sns.histplot(data=df, x='exang')\n",
        "\n",
        "ax = fig.add_subplot(4, 3, 10)\n",
        "sns.histplot(data=df, x='oldpeak')\n",
        "\n",
        "ax = fig.add_subplot(4, 3, 11)\n",
        "sns.histplot(data=df, x='slope')\n",
        "\n",
        "ax = fig.add_subplot(4, 3, 12)\n",
        "sns.histplot(data=df, x='num')\n",
        "\n",
        "fig.tight_layout()"
      ]
    }
  ],
  "metadata": {
    "kernelspec": {
      "display_name": "Python 3",
      "language": "python",
      "name": "python3"
    },
    "language_info": {
      "codemirror_mode": {
        "name": "ipython",
        "version": 3
      },
      "file_extension": ".py",
      "mimetype": "text/x-python",
      "name": "python",
      "nbconvert_exporter": "python",
      "pygments_lexer": "ipython3",
      "version": "3.8.8"
    },
    "colab": {
      "name": "Heart_disease_data_analysis.ipynb",
      "provenance": []
    }
  },
  "nbformat": 4,
  "nbformat_minor": 0
}